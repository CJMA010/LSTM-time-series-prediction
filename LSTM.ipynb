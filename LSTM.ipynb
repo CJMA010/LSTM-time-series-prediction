{
  "nbformat": 4,
  "nbformat_minor": 0,
  "metadata": {
    "colab": {
      "name": "LSTM.ipynb",
      "version": "0.3.2",
      "provenance": [],
      "collapsed_sections": [],
      "include_colab_link": true
    },
    "kernelspec": {
      "display_name": "Python 3",
      "language": "python",
      "name": "python3"
    }
  },
  "cells": [
    {
      "cell_type": "markdown",
      "metadata": {
        "id": "view-in-github",
        "colab_type": "text"
      },
      "source": [
        "<a href=\"https://colab.research.google.com/github/CJMA010/LSTM-time-series-prediction/blob/master/LSTM.ipynb\" target=\"_parent\"><img src=\"https://colab.research.google.com/assets/colab-badge.svg\" alt=\"Open In Colab\"/></a>"
      ]
    },
    {
      "metadata": {
        "id": "Aidp6km9V891",
        "colab_type": "code",
        "colab": {}
      },
      "cell_type": "code",
      "source": [
        "import pandas as pd\n",
        "from sklearn import preprocessing\n",
        "import numpy as np\n",
        "from pandas_datareader.data import DataReader\n",
        "from datetime import date\n",
        "from keras.models import Sequential\n",
        "from keras.layers.core import Dense , Activation\n",
        "from keras.layers.recurrent import LSTM\n",
        "\n",
        "import tensorflow as tf\n",
        "\n",
        "config = tf.ConfigProto()\n",
        "config.gpu_options.allow_growth = True\n",
        "sess = tf.Session(config=config)\n",
        "\n",
        "code_AA = 'BAMLC0A2CAAEY'\n",
        "code_TB = 'DGS10'\n",
        "data_source = 'fred'"
      ],
      "execution_count": 0,
      "outputs": []
    },
    {
      "metadata": {
        "id": "gO4Y6ueoV896",
        "colab_type": "code",
        "colab": {}
      },
      "cell_type": "code",
      "source": [
        "start = date(1990, 1, 1)\n",
        "yield_AA = DataReader(code_AA, data_source, start)\n",
        "yield_TB = DataReader(code_TB, data_source, start)\n",
        "yield_concat = pd.concat([yield_AA, yield_TB], axis=1)"
      ],
      "execution_count": 0,
      "outputs": []
    },
    {
      "metadata": {
        "id": "74CLH-65V899",
        "colab_type": "code",
        "colab": {}
      },
      "cell_type": "code",
      "source": [
        "yield_concat=yield_concat.rename(columns={code_AA:'yield_AA',code_TB:'yield_TB'})"
      ],
      "execution_count": 0,
      "outputs": []
    },
    {
      "metadata": {
        "id": "KPDspb-2V89_",
        "colab_type": "code",
        "colab": {}
      },
      "cell_type": "code",
      "source": [
        "yield_concat['spread_AA'] = yield_concat.yield_AA - yield_concat.yield_TB"
      ],
      "execution_count": 0,
      "outputs": []
    },
    {
      "metadata": {
        "id": "E64B_L4yV8-C",
        "colab_type": "code",
        "colab": {}
      },
      "cell_type": "code",
      "source": [
        "yield_concat['lag_1'] = yield_concat.spread_AA.shift(1)\n",
        "yield_concat['lag_2'] = yield_concat.spread_AA.shift(2)\n",
        "yield_concat['lag_3'] = yield_concat.spread_AA.shift(3)\n",
        "yield_concat['lag_4'] = yield_concat.spread_AA.shift(4)\n",
        "yield_concat['lag_5'] = yield_concat.spread_AA.shift(5)\n",
        "yield_concat = yield_concat.dropna()"
      ],
      "execution_count": 0,
      "outputs": []
    },
    {
      "metadata": {
        "id": "D2ao3ZGfV8-E",
        "colab_type": "code",
        "colab": {}
      },
      "cell_type": "code",
      "source": [
        "all_set_columns = ['lag_1','lag_2','lag_3','lag_4','lag_5']\n",
        "all_set = yield_concat[all_set_columns]\n",
        "scaler_all_set = preprocessing.MinMaxScaler(feature_range=(-1, 1))\n",
        "all_set = np.array(all_set).reshape((len(all_set),5 ))\n",
        "all_set = scaler_all_set.fit_transform(all_set)"
      ],
      "execution_count": 0,
      "outputs": []
    },
    {
      "metadata": {
        "id": "NchLbwN7V8-H",
        "colab_type": "code",
        "colab": {}
      },
      "cell_type": "code",
      "source": [
        "single_set = yield_concat['spread_AA']\n",
        "scaler_single_set = preprocessing.MinMaxScaler( feature_range=(-1, 1))\n",
        "single_set = np.array(single_set).reshape((len(single_set), 1))\n",
        "single_set = scaler_single_set.fit_transform(single_set)"
      ],
      "execution_count": 0,
      "outputs": []
    },
    {
      "metadata": {
        "id": "rgcea3AXV8-K",
        "colab_type": "code",
        "colab": {}
      },
      "cell_type": "code",
      "source": [
        "train_end = int(len(all_set)*0.66)\n",
        "\n",
        "x_train=all_set[0:train_end ,]\n",
        "x_test=all_set[train_end+1:len(all_set),]\n",
        "\n",
        "y_train=single_set[0:train_end]\n",
        "y_test=single_set[train_end+1:len(all_set)]\n",
        "\n",
        "x_train=x_train.reshape(x_train.shape + (1,))\n",
        "x_test=x_test.reshape(x_test.shape + (1,))"
      ],
      "execution_count": 0,
      "outputs": []
    },
    {
      "metadata": {
        "id": "J8lJeNWPV8-N",
        "colab_type": "code",
        "colab": {}
      },
      "cell_type": "code",
      "source": [
        "seed = 2016\n",
        "np.random.seed(seed)\n",
        "fit1 = Sequential()\n",
        "fit1.add(LSTM(activation=\"tanh\", input_shape=(5, 1), units=4, recurrent_activation=\"hard_sigmoid\"))\n",
        "fit1.add(Dense(activation=\"linear\", units=1))"
      ],
      "execution_count": 0,
      "outputs": []
    },
    {
      "metadata": {
        "id": "ivUB6LmVV8-Q",
        "colab_type": "code",
        "outputId": "b24c5d95-594f-4782-e60b-18f7d67e5fea",
        "colab": {
          "base_uri": "https://localhost:8080/",
          "height": 544
        }
      },
      "cell_type": "code",
      "source": [
        "fit1.compile(loss=\"mean_squared_error\", optimizer=\"rmsprop\")\n",
        "fit1.fit(x_train , y_train , batch_size = 1, epochs = 10, shuffle=False)\n",
        "fit1.summary()"
      ],
      "execution_count": 0,
      "outputs": [
        {
          "output_type": "stream",
          "text": [
            "Epoch 1/10\n",
            "2702/2702 [==============================] - 13s 5ms/step - loss: 0.0079\n",
            "Epoch 2/10\n",
            "2702/2702 [==============================] - 13s 5ms/step - loss: 9.0633e-04\n",
            "Epoch 3/10\n",
            "2702/2702 [==============================] - 13s 5ms/step - loss: 7.0900e-04\n",
            "Epoch 4/10\n",
            "2702/2702 [==============================] - 13s 5ms/step - loss: 6.3164e-04\n",
            "Epoch 5/10\n",
            "2702/2702 [==============================] - 13s 5ms/step - loss: 5.9304e-04\n",
            "Epoch 6/10\n",
            "2702/2702 [==============================] - 13s 5ms/step - loss: 5.7394e-04\n",
            "Epoch 7/10\n",
            "2702/2702 [==============================] - 13s 5ms/step - loss: 5.5690e-04\n",
            "Epoch 8/10\n",
            "2702/2702 [==============================] - 13s 5ms/step - loss: 5.4109e-04\n",
            "Epoch 9/10\n",
            "2702/2702 [==============================] - 13s 5ms/step - loss: 5.2443e-04\n",
            "Epoch 10/10\n",
            "2702/2702 [==============================] - 13s 5ms/step - loss: 5.2274e-04\n",
            "_________________________________________________________________\n",
            "Layer (type)                 Output Shape              Param #   \n",
            "=================================================================\n",
            "lstm_1 (LSTM)                (None, 4)                 96        \n",
            "_________________________________________________________________\n",
            "dense_1 (Dense)              (None, 1)                 5         \n",
            "=================================================================\n",
            "Total params: 101\n",
            "Trainable params: 101\n",
            "Non-trainable params: 0\n",
            "_________________________________________________________________\n"
          ],
          "name": "stdout"
        }
      ]
    },
    {
      "metadata": {
        "id": "TVn5Yyq8V8-T",
        "colab_type": "code",
        "outputId": "820a4d60-8fb5-40a7-ff32-28c5659f6364",
        "colab": {
          "base_uri": "https://localhost:8080/",
          "height": 85
        }
      },
      "cell_type": "code",
      "source": [
        "score_train = fit1.evaluate(x_train , y_train,batch_size=1)\n",
        "score_test = fit1.evaluate(x_test , y_test , batch_size =1)\n",
        "print (\"in train MSE = \", round(score_train ,4))\n",
        "print (\"in test MSE = \", round(score_test,4))"
      ],
      "execution_count": 0,
      "outputs": [
        {
          "output_type": "stream",
          "text": [
            "2702/2702 [==============================] - 3s 1ms/step\n",
            "1391/1391 [==============================] - 1s 1ms/step\n",
            "in train MSE =  0.0192\n",
            "in test MSE =  0.0083\n"
          ],
          "name": "stdout"
        }
      ]
    },
    {
      "metadata": {
        "id": "NAB6pClkV8-X",
        "colab_type": "code",
        "colab": {}
      },
      "cell_type": "code",
      "source": [
        "pred1 = fit1.predict(x_test)\n",
        "pred1 = scaler_single_set.inverse_transform(np.array(pred1).reshape((len(pred1), 1)))"
      ],
      "execution_count": 0,
      "outputs": []
    },
    {
      "metadata": {
        "id": "RDM7-_VIV8-Z",
        "colab_type": "code",
        "colab": {}
      },
      "cell_type": "code",
      "source": [
        "import matplotlib.pyplot as plt"
      ],
      "execution_count": 0,
      "outputs": []
    },
    {
      "metadata": {
        "id": "m5DC95QGV8-b",
        "colab_type": "code",
        "outputId": "2f6dc755-b5b3-4d29-ff5b-65123c90e51e",
        "colab": {
          "base_uri": "https://localhost:8080/",
          "height": 347
        }
      },
      "cell_type": "code",
      "source": [
        "plt1 = plt.plot(scaler_single_set.inverse_transform(np.array(y_test).reshape((len(y_test), 1))))\n",
        "plt2 = plt.plot(pred1)\n",
        "plt.show()"
      ],
      "execution_count": 0,
      "outputs": [
        {
          "output_type": "display_data",
          "data": {
            "image/png": "[encoded data removed]",
            "text/plain": [
              "<Figure size 576x396 with 1 Axes>"
            ]
          },
          "metadata": {
            "tags": []
          }
        }
      ]
    },
    {
      "metadata": {
        "id": "AP1klb31V8-e",
        "colab_type": "code",
        "colab": {}
      },
      "cell_type": "code",
      "source": [
        ""
      ],
      "execution_count": 0,
      "outputs": []
    },
    {
      "metadata": {
        "id": "bwXt9T5vV8-g",
        "colab_type": "code",
        "colab": {}
      },
      "cell_type": "code",
      "source": [
        ""
      ],
      "execution_count": 0,
      "outputs": []
    },
    {
      "metadata": {
        "id": "NxOhLERjV8-i",
        "colab_type": "code",
        "colab": {}
      },
      "cell_type": "code",
      "source": [
        ""
      ],
      "execution_count": 0,
      "outputs": []
    },
    {
      "metadata": {
        "id": "Vrs2zQHUV8-l",
        "colab_type": "code",
        "colab": {}
      },
      "cell_type": "code",
      "source": [
        ""
      ],
      "execution_count": 0,
      "outputs": []
    }
  ]
}